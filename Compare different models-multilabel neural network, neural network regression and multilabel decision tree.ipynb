{
 "cells": [
  {
   "cell_type": "code",
   "execution_count": 1,
   "metadata": {},
   "outputs": [],
   "source": [
    "import ibm_db"
   ]
  },
  {
   "cell_type": "code",
   "execution_count": 2,
   "metadata": {},
   "outputs": [],
   "source": [
    "%load_ext sql"
   ]
  },
  {
   "cell_type": "code",
   "execution_count": 3,
   "metadata": {},
   "outputs": [
    {
     "data": {
      "text/plain": [
       "'Connected: jvl15079@BLUDB'"
      ]
     },
     "execution_count": 3,
     "metadata": {},
     "output_type": "execute_result"
    }
   ],
   "source": [
    "# I have to take this code block out, since it shows the username, password, host name and port number for my IBM Db service. "
   ]
  },
  {
   "cell_type": "code",
   "execution_count": 31,
   "metadata": {},
   "outputs": [
    {
     "data": {
      "text/html": [
       "<div>\n",
       "<style scoped>\n",
       "    .dataframe tbody tr th:only-of-type {\n",
       "        vertical-align: middle;\n",
       "    }\n",
       "\n",
       "    .dataframe tbody tr th {\n",
       "        vertical-align: top;\n",
       "    }\n",
       "\n",
       "    .dataframe thead th {\n",
       "        text-align: right;\n",
       "    }\n",
       "</style>\n",
       "<table border=\"1\" class=\"dataframe\">\n",
       "  <thead>\n",
       "    <tr style=\"text-align: right;\">\n",
       "      <th></th>\n",
       "      <th>fixed_acidity</th>\n",
       "      <th>volatile_acidity</th>\n",
       "      <th>citric_acid</th>\n",
       "      <th>residual_sugar</th>\n",
       "      <th>chlorides</th>\n",
       "      <th>free_sulfur_dioxide</th>\n",
       "      <th>total_sulfur_dioxide</th>\n",
       "      <th>density</th>\n",
       "      <th>pH</th>\n",
       "      <th>sulphates</th>\n",
       "      <th>alcohol</th>\n",
       "      <th>quality</th>\n",
       "    </tr>\n",
       "  </thead>\n",
       "  <tbody>\n",
       "    <tr>\n",
       "      <th>0</th>\n",
       "      <td>7.4</td>\n",
       "      <td>0.70</td>\n",
       "      <td>0.00</td>\n",
       "      <td>1.9</td>\n",
       "      <td>0.076</td>\n",
       "      <td>11.0</td>\n",
       "      <td>34.0</td>\n",
       "      <td>0.9978</td>\n",
       "      <td>3.51</td>\n",
       "      <td>0.56</td>\n",
       "      <td>9.4</td>\n",
       "      <td>5</td>\n",
       "    </tr>\n",
       "    <tr>\n",
       "      <th>1</th>\n",
       "      <td>7.8</td>\n",
       "      <td>0.88</td>\n",
       "      <td>0.00</td>\n",
       "      <td>2.6</td>\n",
       "      <td>0.098</td>\n",
       "      <td>25.0</td>\n",
       "      <td>67.0</td>\n",
       "      <td>0.9968</td>\n",
       "      <td>3.20</td>\n",
       "      <td>0.68</td>\n",
       "      <td>9.8</td>\n",
       "      <td>5</td>\n",
       "    </tr>\n",
       "    <tr>\n",
       "      <th>2</th>\n",
       "      <td>7.8</td>\n",
       "      <td>0.76</td>\n",
       "      <td>0.04</td>\n",
       "      <td>2.3</td>\n",
       "      <td>0.092</td>\n",
       "      <td>15.0</td>\n",
       "      <td>54.0</td>\n",
       "      <td>0.9970</td>\n",
       "      <td>3.26</td>\n",
       "      <td>0.65</td>\n",
       "      <td>9.8</td>\n",
       "      <td>5</td>\n",
       "    </tr>\n",
       "    <tr>\n",
       "      <th>3</th>\n",
       "      <td>11.2</td>\n",
       "      <td>0.28</td>\n",
       "      <td>0.56</td>\n",
       "      <td>1.9</td>\n",
       "      <td>0.075</td>\n",
       "      <td>17.0</td>\n",
       "      <td>60.0</td>\n",
       "      <td>0.9980</td>\n",
       "      <td>3.16</td>\n",
       "      <td>0.58</td>\n",
       "      <td>9.8</td>\n",
       "      <td>6</td>\n",
       "    </tr>\n",
       "    <tr>\n",
       "      <th>4</th>\n",
       "      <td>7.4</td>\n",
       "      <td>0.70</td>\n",
       "      <td>0.00</td>\n",
       "      <td>1.9</td>\n",
       "      <td>0.076</td>\n",
       "      <td>11.0</td>\n",
       "      <td>34.0</td>\n",
       "      <td>0.9978</td>\n",
       "      <td>3.51</td>\n",
       "      <td>0.56</td>\n",
       "      <td>9.4</td>\n",
       "      <td>5</td>\n",
       "    </tr>\n",
       "  </tbody>\n",
       "</table>\n",
       "</div>"
      ],
      "text/plain": [
       "   fixed_acidity  volatile_acidity  citric_acid  residual_sugar  chlorides  \\\n",
       "0            7.4              0.70         0.00             1.9      0.076   \n",
       "1            7.8              0.88         0.00             2.6      0.098   \n",
       "2            7.8              0.76         0.04             2.3      0.092   \n",
       "3           11.2              0.28         0.56             1.9      0.075   \n",
       "4            7.4              0.70         0.00             1.9      0.076   \n",
       "\n",
       "   free_sulfur_dioxide  total_sulfur_dioxide  density    pH  sulphates  \\\n",
       "0                 11.0                  34.0   0.9978  3.51       0.56   \n",
       "1                 25.0                  67.0   0.9968  3.20       0.68   \n",
       "2                 15.0                  54.0   0.9970  3.26       0.65   \n",
       "3                 17.0                  60.0   0.9980  3.16       0.58   \n",
       "4                 11.0                  34.0   0.9978  3.51       0.56   \n",
       "\n",
       "   alcohol  quality  \n",
       "0      9.4        5  \n",
       "1      9.8        5  \n",
       "2      9.8        5  \n",
       "3      9.8        6  \n",
       "4      9.4        5  "
      ]
     },
     "execution_count": 31,
     "metadata": {},
     "output_type": "execute_result"
    }
   ],
   "source": [
    "# Load the data.\n",
    "import pandas as pd\n",
    "df=pd.read_csv(\"Red_wine_quality.csv\")\n",
    "df.head()"
   ]
  },
  {
   "cell_type": "markdown",
   "metadata": {},
   "source": [
    "I want to calculate the average of each factor for each wine quality score, sql is more convenient for this purpose. "
   ]
  },
  {
   "cell_type": "code",
   "execution_count": 32,
   "metadata": {
    "collapsed": true,
    "jupyter": {
     "outputs_hidden": true
    }
   },
   "outputs": [
    {
     "name": "stdout",
     "output_type": "stream",
     "text": [
      " * ibm_db_sa://jvl15079:***@dashdb-txn-sbox-yp-dal09-12.services.dal.bluemix.net:50000/BLUDB\n",
      "Done.\n"
     ]
    }
   ],
   "source": [
    "# The output for this sql query is collapsed since it has the username, password, hostname, port number for my IMB Db service as well.\n",
    "Avg = %sql SELECT quality, avg(fixed_acidity) as avg_fixed_acidity, avg(volatile_acidity) as avg_volatile_acidity ,avg(citric_acid) as avg_citric_acid ,avg(residual_sugar) as avg_residual_sugar,avg(chlorides) as avg_chlorides, avg(free_sulfur_dioxide) as avg_free_sulfur_dioxide,avg(density) as avg_density,avg(sulphates) as avg_sulphates, avg(alcohol) as avg_alcohol FROM df GROUP BY quality"
   ]
  },
  {
   "cell_type": "code",
   "execution_count": 33,
   "metadata": {},
   "outputs": [],
   "source": [
    "# Convert the result of the sql query to csv format and store it in the local directory.\n",
    "Avg=Avg.csv(\"Avg.csv\")"
   ]
  },
  {
   "cell_type": "code",
   "execution_count": 34,
   "metadata": {},
   "outputs": [
    {
     "data": {
      "text/html": [
       "<div>\n",
       "<style scoped>\n",
       "    .dataframe tbody tr th:only-of-type {\n",
       "        vertical-align: middle;\n",
       "    }\n",
       "\n",
       "    .dataframe tbody tr th {\n",
       "        vertical-align: top;\n",
       "    }\n",
       "\n",
       "    .dataframe thead th {\n",
       "        text-align: right;\n",
       "    }\n",
       "</style>\n",
       "<table border=\"1\" class=\"dataframe\">\n",
       "  <thead>\n",
       "    <tr style=\"text-align: right;\">\n",
       "      <th></th>\n",
       "      <th>quality</th>\n",
       "      <th>avg_fixed_acidity</th>\n",
       "      <th>avg_volatile_acidity</th>\n",
       "      <th>avg_citric_acid</th>\n",
       "      <th>avg_residual_sugar</th>\n",
       "      <th>avg_chlorides</th>\n",
       "      <th>avg_free_sulfur_dioxide</th>\n",
       "      <th>avg_density</th>\n",
       "      <th>avg_sulphates</th>\n",
       "      <th>avg_alcohol</th>\n",
       "    </tr>\n",
       "  </thead>\n",
       "  <tbody>\n",
       "    <tr>\n",
       "      <th>0</th>\n",
       "      <td>3</td>\n",
       "      <td>8.360000</td>\n",
       "      <td>0.884500</td>\n",
       "      <td>0.171000</td>\n",
       "      <td>2.635000</td>\n",
       "      <td>0.122500</td>\n",
       "      <td>11.000000</td>\n",
       "      <td>0.997464</td>\n",
       "      <td>0.570000</td>\n",
       "      <td>9.955000</td>\n",
       "    </tr>\n",
       "    <tr>\n",
       "      <th>1</th>\n",
       "      <td>4</td>\n",
       "      <td>7.779245</td>\n",
       "      <td>0.693962</td>\n",
       "      <td>0.174151</td>\n",
       "      <td>2.694340</td>\n",
       "      <td>0.090679</td>\n",
       "      <td>12.264151</td>\n",
       "      <td>0.996542</td>\n",
       "      <td>0.596415</td>\n",
       "      <td>10.265094</td>\n",
       "    </tr>\n",
       "    <tr>\n",
       "      <th>2</th>\n",
       "      <td>5</td>\n",
       "      <td>8.167254</td>\n",
       "      <td>0.577041</td>\n",
       "      <td>0.243686</td>\n",
       "      <td>2.528855</td>\n",
       "      <td>0.092736</td>\n",
       "      <td>16.983847</td>\n",
       "      <td>0.997104</td>\n",
       "      <td>0.620969</td>\n",
       "      <td>9.899706</td>\n",
       "    </tr>\n",
       "    <tr>\n",
       "      <th>3</th>\n",
       "      <td>6</td>\n",
       "      <td>8.347179</td>\n",
       "      <td>0.497484</td>\n",
       "      <td>0.273824</td>\n",
       "      <td>2.477194</td>\n",
       "      <td>0.084956</td>\n",
       "      <td>15.711599</td>\n",
       "      <td>0.996615</td>\n",
       "      <td>0.675329</td>\n",
       "      <td>10.629519</td>\n",
       "    </tr>\n",
       "    <tr>\n",
       "      <th>4</th>\n",
       "      <td>7</td>\n",
       "      <td>8.872362</td>\n",
       "      <td>0.403920</td>\n",
       "      <td>0.375176</td>\n",
       "      <td>2.720603</td>\n",
       "      <td>0.076588</td>\n",
       "      <td>14.045226</td>\n",
       "      <td>0.996104</td>\n",
       "      <td>0.741256</td>\n",
       "      <td>11.465913</td>\n",
       "    </tr>\n",
       "    <tr>\n",
       "      <th>5</th>\n",
       "      <td>8</td>\n",
       "      <td>8.566667</td>\n",
       "      <td>0.423333</td>\n",
       "      <td>0.391111</td>\n",
       "      <td>2.577778</td>\n",
       "      <td>0.068444</td>\n",
       "      <td>13.277778</td>\n",
       "      <td>0.995212</td>\n",
       "      <td>0.767778</td>\n",
       "      <td>12.094444</td>\n",
       "    </tr>\n",
       "  </tbody>\n",
       "</table>\n",
       "</div>"
      ],
      "text/plain": [
       "   quality  avg_fixed_acidity  avg_volatile_acidity  avg_citric_acid  \\\n",
       "0        3           8.360000              0.884500         0.171000   \n",
       "1        4           7.779245              0.693962         0.174151   \n",
       "2        5           8.167254              0.577041         0.243686   \n",
       "3        6           8.347179              0.497484         0.273824   \n",
       "4        7           8.872362              0.403920         0.375176   \n",
       "5        8           8.566667              0.423333         0.391111   \n",
       "\n",
       "   avg_residual_sugar  avg_chlorides  avg_free_sulfur_dioxide  avg_density  \\\n",
       "0            2.635000       0.122500                11.000000     0.997464   \n",
       "1            2.694340       0.090679                12.264151     0.996542   \n",
       "2            2.528855       0.092736                16.983847     0.997104   \n",
       "3            2.477194       0.084956                15.711599     0.996615   \n",
       "4            2.720603       0.076588                14.045226     0.996104   \n",
       "5            2.577778       0.068444                13.277778     0.995212   \n",
       "\n",
       "   avg_sulphates  avg_alcohol  \n",
       "0       0.570000     9.955000  \n",
       "1       0.596415    10.265094  \n",
       "2       0.620969     9.899706  \n",
       "3       0.675329    10.629519  \n",
       "4       0.741256    11.465913  \n",
       "5       0.767778    12.094444  "
      ]
     },
     "execution_count": 34,
     "metadata": {},
     "output_type": "execute_result"
    }
   ],
   "source": [
    "# Load the csv document as pandas dataframe.\n",
    "avg=pd.read_csv(\"Avg.csv\")\n",
    "avg"
   ]
  },
  {
   "cell_type": "code",
   "execution_count": 35,
   "metadata": {
    "button": false,
    "collapsed": false,
    "jupyter": {
     "outputs_hidden": false
    },
    "new_sheet": false,
    "run_control": {
     "read_only": false
    }
   },
   "outputs": [
    {
     "data": {
      "image/png": "[encoded data removed]",
      "text/plain": [
       "<Figure size 1152x864 with 9 Axes>"
      ]
     },
     "metadata": {
      "needs_background": "light"
     },
     "output_type": "display_data"
    }
   ],
   "source": [
    "# plot the nine attributes in one code block.\n",
    "\n",
    "import matplotlib.pyplot as plt\n",
    "\n",
    "fig = plt.figure(figsize=(16,12)) # create figure\n",
    "\n",
    "ax0 = fig.add_subplot(3, 3, 1) # add subplot 1 (4 row, 3 columns, first plot)\n",
    "ax1 = fig.add_subplot(3, 3, 2) # add subplot 2 (4 row, 3 columns, second plot). See tip below**\n",
    "ax2 = fig.add_subplot(3, 3, 3) # subplot 3 (4 rows, 3 columns, 3rd plot )\n",
    "ax3 = fig.add_subplot(3,3,4)\n",
    "ax4 = fig.add_subplot(3,3,5)\n",
    "ax5 = fig.add_subplot(3,3,6)\n",
    "ax6 = fig.add_subplot(3,3,7)\n",
    "ax7 = fig.add_subplot(3,3,8)\n",
    "ax8 = fig.add_subplot(3,3,9)\n",
    "\n",
    "ax0.bar(avg[\"quality\"],avg[\"avg_fixed_acidity\"], color='blue') # add to subplot 1\n",
    "ax0.set_title('Wine quality vs. Average fixed acidity')\n",
    "ax0.set_xlabel('Wine quality')\n",
    "ax0.set_ylabel('Average fixed acidity')\n",
    "\n",
    "ax1.bar(avg[\"quality\"],avg[\"avg_volatile_acidity\"], color='blue',) # add to subplot 1\n",
    "ax1.set_title('Wine quality vs. Average volatile acidity')\n",
    "ax1.set_xlabel('Wine quality')\n",
    "ax1.set_ylabel('Average volatile acidity')\n",
    "\n",
    "ax2.bar(avg[\"quality\"],avg[\"avg_citric_acid\"], color='blue',) # add to subplot 1\n",
    "ax2.set_title('Wine quality vs. Average citric acid')\n",
    "ax2.set_xlabel('Wine quality')\n",
    "ax2.set_ylabel('Average citric acid')\n",
    "\n",
    "ax3.bar(avg[\"quality\"],avg[\"avg_residual_sugar\"], color='blue') # add to subplot 1\n",
    "ax3.set_title('wine quality vs. Average residual sugar')\n",
    "ax3.set_xlabel('Wine quality')\n",
    "ax3.set_ylabel('Average residual sugar')\n",
    "\n",
    "ax4.bar(avg[\"quality\"],avg[\"avg_chlorides\"], color='blue') # add to subplot 1\n",
    "ax4.set_title('wine quality vs. Average chlorides')\n",
    "ax4.set_xlabel('Wine quality')\n",
    "ax4.set_ylabel('Average chlorides')\n",
    "\n",
    "ax5.bar(avg[\"quality\"],avg[\"avg_free_sulfur_dioxide\"], color='blue') # add to subplot 1\n",
    "ax5.set_title('wine quality vs. Average free sulfur dioxide')\n",
    "ax5.set_xlabel('Wine quality')\n",
    "ax5.set_ylabel('Average free sulfur dioxide')\n",
    "\n",
    "ax6.bar(avg[\"quality\"],avg[\"avg_density\"], color='blue') # add to subplot 1\n",
    "ax6.set_title('wine quality vs. Average density')\n",
    "ax6.set_xlabel('Wine quality')\n",
    "ax6.set_ylabel('Average density')\n",
    "\n",
    "ax7.bar(avg[\"quality\"],avg[\"avg_sulphates\"], color='blue') # add to subplot 1\n",
    "ax7.set_title('wine quality vs. Average sulphates')\n",
    "ax7.set_xlabel('Wine quality')\n",
    "ax7.set_ylabel('Average sulphates')\n",
    "\n",
    "ax8.bar(avg[\"quality\"],avg[\"avg_alcohol\"], color='blue') # add to subplot 1\n",
    "ax8.set_title('wine quality vs. Average alcohol')\n",
    "ax8.set_xlabel('Wine quality')\n",
    "ax8.set_ylabel('Average alcohol')\n",
    "\n",
    "plt.subplots_adjust(top = 1.15)\n",
    "plt.show()"
   ]
  },
  {
   "cell_type": "markdown",
   "metadata": {},
   "source": [
    "In each of the subplot above, the x-axis represents the wine quality, the y-axis represents a factor that a factor that affects the wine's quality. All the wines in this dataset are red wine. For a lot of factors, there are no apparent correlation between the wines' quality and those factors. However, there are a few interesting patterns here: (1) higher quality wines have lower volatile acidity (2nd subplot; (2) higher quality wines have higher citric acid (3rd subplot; (3) higher quality wines have higher sulphates (8th subplot); (4) higher quality wines also tend to have higher alcohol, although this pattern is not very obvious (9th subplot)."
   ]
  },
  {
   "cell_type": "markdown",
   "metadata": {},
   "source": [
    "Next, let's build a multi-class neural network using keras to predict the wine's class. "
   ]
  },
  {
   "cell_type": "code",
   "execution_count": 36,
   "metadata": {},
   "outputs": [
    {
     "data": {
      "text/html": [
       "<div>\n",
       "<style scoped>\n",
       "    .dataframe tbody tr th:only-of-type {\n",
       "        vertical-align: middle;\n",
       "    }\n",
       "\n",
       "    .dataframe tbody tr th {\n",
       "        vertical-align: top;\n",
       "    }\n",
       "\n",
       "    .dataframe thead th {\n",
       "        text-align: right;\n",
       "    }\n",
       "</style>\n",
       "<table border=\"1\" class=\"dataframe\">\n",
       "  <thead>\n",
       "    <tr style=\"text-align: right;\">\n",
       "      <th></th>\n",
       "      <th>fixed_acidity</th>\n",
       "      <th>volatile_acidity</th>\n",
       "      <th>citric_acid</th>\n",
       "      <th>residual_sugar</th>\n",
       "      <th>chlorides</th>\n",
       "      <th>free_sulfur_dioxide</th>\n",
       "      <th>total_sulfur_dioxide</th>\n",
       "      <th>density</th>\n",
       "      <th>pH</th>\n",
       "      <th>sulphates</th>\n",
       "      <th>alcohol</th>\n",
       "    </tr>\n",
       "  </thead>\n",
       "  <tbody>\n",
       "    <tr>\n",
       "      <th>0</th>\n",
       "      <td>-0.528360</td>\n",
       "      <td>0.961877</td>\n",
       "      <td>-1.391472</td>\n",
       "      <td>-0.453218</td>\n",
       "      <td>-0.243707</td>\n",
       "      <td>-0.466193</td>\n",
       "      <td>-0.379133</td>\n",
       "      <td>0.558274</td>\n",
       "      <td>1.288643</td>\n",
       "      <td>-0.579207</td>\n",
       "      <td>-0.960246</td>\n",
       "    </tr>\n",
       "    <tr>\n",
       "      <th>1</th>\n",
       "      <td>-0.298547</td>\n",
       "      <td>1.967442</td>\n",
       "      <td>-1.391472</td>\n",
       "      <td>0.043416</td>\n",
       "      <td>0.223875</td>\n",
       "      <td>0.872638</td>\n",
       "      <td>0.624363</td>\n",
       "      <td>0.028261</td>\n",
       "      <td>-0.719933</td>\n",
       "      <td>0.128950</td>\n",
       "      <td>-0.584777</td>\n",
       "    </tr>\n",
       "    <tr>\n",
       "      <th>2</th>\n",
       "      <td>-0.298547</td>\n",
       "      <td>1.297065</td>\n",
       "      <td>-1.186070</td>\n",
       "      <td>-0.169427</td>\n",
       "      <td>0.096353</td>\n",
       "      <td>-0.083669</td>\n",
       "      <td>0.229047</td>\n",
       "      <td>0.134264</td>\n",
       "      <td>-0.331177</td>\n",
       "      <td>-0.048089</td>\n",
       "      <td>-0.584777</td>\n",
       "    </tr>\n",
       "    <tr>\n",
       "      <th>3</th>\n",
       "      <td>1.654856</td>\n",
       "      <td>-1.384443</td>\n",
       "      <td>1.484154</td>\n",
       "      <td>-0.453218</td>\n",
       "      <td>-0.264960</td>\n",
       "      <td>0.107592</td>\n",
       "      <td>0.411500</td>\n",
       "      <td>0.664277</td>\n",
       "      <td>-0.979104</td>\n",
       "      <td>-0.461180</td>\n",
       "      <td>-0.584777</td>\n",
       "    </tr>\n",
       "    <tr>\n",
       "      <th>4</th>\n",
       "      <td>-0.528360</td>\n",
       "      <td>0.961877</td>\n",
       "      <td>-1.391472</td>\n",
       "      <td>-0.453218</td>\n",
       "      <td>-0.243707</td>\n",
       "      <td>-0.466193</td>\n",
       "      <td>-0.379133</td>\n",
       "      <td>0.558274</td>\n",
       "      <td>1.288643</td>\n",
       "      <td>-0.579207</td>\n",
       "      <td>-0.960246</td>\n",
       "    </tr>\n",
       "    <tr>\n",
       "      <th>...</th>\n",
       "      <td>...</td>\n",
       "      <td>...</td>\n",
       "      <td>...</td>\n",
       "      <td>...</td>\n",
       "      <td>...</td>\n",
       "      <td>...</td>\n",
       "      <td>...</td>\n",
       "      <td>...</td>\n",
       "      <td>...</td>\n",
       "      <td>...</td>\n",
       "      <td>...</td>\n",
       "    </tr>\n",
       "    <tr>\n",
       "      <th>1594</th>\n",
       "      <td>-1.217796</td>\n",
       "      <td>0.403229</td>\n",
       "      <td>-0.980669</td>\n",
       "      <td>-0.382271</td>\n",
       "      <td>0.053845</td>\n",
       "      <td>1.542054</td>\n",
       "      <td>-0.075043</td>\n",
       "      <td>-0.978765</td>\n",
       "      <td>0.899886</td>\n",
       "      <td>-0.461180</td>\n",
       "      <td>0.072294</td>\n",
       "    </tr>\n",
       "    <tr>\n",
       "      <th>1595</th>\n",
       "      <td>-1.390155</td>\n",
       "      <td>0.123905</td>\n",
       "      <td>-0.877968</td>\n",
       "      <td>-0.240375</td>\n",
       "      <td>-0.541259</td>\n",
       "      <td>2.211469</td>\n",
       "      <td>0.137820</td>\n",
       "      <td>-0.862162</td>\n",
       "      <td>1.353436</td>\n",
       "      <td>0.601055</td>\n",
       "      <td>0.729364</td>\n",
       "    </tr>\n",
       "    <tr>\n",
       "      <th>1596</th>\n",
       "      <td>-1.160343</td>\n",
       "      <td>-0.099554</td>\n",
       "      <td>-0.723916</td>\n",
       "      <td>-0.169427</td>\n",
       "      <td>-0.243707</td>\n",
       "      <td>1.255161</td>\n",
       "      <td>-0.196679</td>\n",
       "      <td>-0.533554</td>\n",
       "      <td>0.705508</td>\n",
       "      <td>0.542042</td>\n",
       "      <td>0.541630</td>\n",
       "    </tr>\n",
       "    <tr>\n",
       "      <th>1597</th>\n",
       "      <td>-1.390155</td>\n",
       "      <td>0.654620</td>\n",
       "      <td>-0.775267</td>\n",
       "      <td>-0.382271</td>\n",
       "      <td>-0.264960</td>\n",
       "      <td>1.542054</td>\n",
       "      <td>-0.075043</td>\n",
       "      <td>-0.676657</td>\n",
       "      <td>1.677400</td>\n",
       "      <td>0.305990</td>\n",
       "      <td>-0.209308</td>\n",
       "    </tr>\n",
       "    <tr>\n",
       "      <th>1598</th>\n",
       "      <td>-1.332702</td>\n",
       "      <td>-1.216849</td>\n",
       "      <td>1.021999</td>\n",
       "      <td>0.752894</td>\n",
       "      <td>-0.434990</td>\n",
       "      <td>0.203223</td>\n",
       "      <td>-0.135861</td>\n",
       "      <td>-0.666057</td>\n",
       "      <td>0.511130</td>\n",
       "      <td>0.010924</td>\n",
       "      <td>0.541630</td>\n",
       "    </tr>\n",
       "  </tbody>\n",
       "</table>\n",
       "<p>1599 rows × 11 columns</p>\n",
       "</div>"
      ],
      "text/plain": [
       "      fixed_acidity  volatile_acidity  citric_acid  residual_sugar  chlorides  \\\n",
       "0         -0.528360          0.961877    -1.391472       -0.453218  -0.243707   \n",
       "1         -0.298547          1.967442    -1.391472        0.043416   0.223875   \n",
       "2         -0.298547          1.297065    -1.186070       -0.169427   0.096353   \n",
       "3          1.654856         -1.384443     1.484154       -0.453218  -0.264960   \n",
       "4         -0.528360          0.961877    -1.391472       -0.453218  -0.243707   \n",
       "...             ...               ...          ...             ...        ...   \n",
       "1594      -1.217796          0.403229    -0.980669       -0.382271   0.053845   \n",
       "1595      -1.390155          0.123905    -0.877968       -0.240375  -0.541259   \n",
       "1596      -1.160343         -0.099554    -0.723916       -0.169427  -0.243707   \n",
       "1597      -1.390155          0.654620    -0.775267       -0.382271  -0.264960   \n",
       "1598      -1.332702         -1.216849     1.021999        0.752894  -0.434990   \n",
       "\n",
       "      free_sulfur_dioxide  total_sulfur_dioxide   density        pH  \\\n",
       "0               -0.466193             -0.379133  0.558274  1.288643   \n",
       "1                0.872638              0.624363  0.028261 -0.719933   \n",
       "2               -0.083669              0.229047  0.134264 -0.331177   \n",
       "3                0.107592              0.411500  0.664277 -0.979104   \n",
       "4               -0.466193             -0.379133  0.558274  1.288643   \n",
       "...                   ...                   ...       ...       ...   \n",
       "1594             1.542054             -0.075043 -0.978765  0.899886   \n",
       "1595             2.211469              0.137820 -0.862162  1.353436   \n",
       "1596             1.255161             -0.196679 -0.533554  0.705508   \n",
       "1597             1.542054             -0.075043 -0.676657  1.677400   \n",
       "1598             0.203223             -0.135861 -0.666057  0.511130   \n",
       "\n",
       "      sulphates   alcohol  \n",
       "0     -0.579207 -0.960246  \n",
       "1      0.128950 -0.584777  \n",
       "2     -0.048089 -0.584777  \n",
       "3     -0.461180 -0.584777  \n",
       "4     -0.579207 -0.960246  \n",
       "...         ...       ...  \n",
       "1594  -0.461180  0.072294  \n",
       "1595   0.601055  0.729364  \n",
       "1596   0.542042  0.541630  \n",
       "1597   0.305990 -0.209308  \n",
       "1598   0.010924  0.541630  \n",
       "\n",
       "[1599 rows x 11 columns]"
      ]
     },
     "execution_count": 36,
     "metadata": {},
     "output_type": "execute_result"
    }
   ],
   "source": [
    "#  standardize the data\n",
    "from sklearn import preprocessing\n",
    "X=df.drop([\"quality\"],axis=1)\n",
    "names=X.columns\n",
    "scaler=preprocessing.StandardScaler()\n",
    "X=scaler.fit_transform(X)\n",
    "X=pd.DataFrame(X, columns=names)\n",
    "X"
   ]
  },
  {
   "cell_type": "markdown",
   "metadata": {},
   "source": [
    "### Multi-classification Neural Network with Keras"
   ]
  },
  {
   "cell_type": "code",
   "execution_count": 97,
   "metadata": {},
   "outputs": [],
   "source": [
    "# split the dataset into test and train subsets\n",
    "from sklearn.model_selection import train_test_split\n",
    "y=df[[\"quality\"]]\n",
    "X_train, X_test, y_train, y_test = train_test_split(X,y, test_size=0.25,random_state=42)"
   ]
  },
  {
   "cell_type": "code",
   "execution_count": 98,
   "metadata": {},
   "outputs": [
    {
     "data": {
      "text/plain": [
       "11"
      ]
     },
     "execution_count": 98,
     "metadata": {},
     "output_type": "execute_result"
    }
   ],
   "source": [
    "length=X_train.shape[1]\n",
    "length"
   ]
  },
  {
   "cell_type": "code",
   "execution_count": 99,
   "metadata": {},
   "outputs": [
    {
     "name": "stdout",
     "output_type": "stream",
     "text": [
      "9\n"
     ]
    }
   ],
   "source": [
    "from keras.utils import to_categorical\n",
    "y_train=to_categorical(y_train)\n",
    "y_test=to_categorical(y_test)\n",
    "num_classes=y_test.shape[1]\n",
    "print(num_classes)"
   ]
  },
  {
   "cell_type": "code",
   "execution_count": 100,
   "metadata": {},
   "outputs": [],
   "source": [
    "# Load the libraries\n",
    "import keras\n",
    "from keras.models import Sequential\n",
    "from keras.layers import Dense\n",
    "\n",
    "# define classification model\n",
    "\n",
    "def classification_model():\n",
    "    # create model\n",
    "    model = Sequential()\n",
    "    model.add(Dense(length, activation='relu', input_shape=(length,)))\n",
    "    model.add(Dense(600, activation='tanh'))\n",
    "    model.add(Dense(num_classes, activation='softmax'))\n",
    "    \n",
    "    \n",
    "    # compile model\n",
    "    model.compile(optimizer='Adam', loss='categorical_crossentropy', metrics=['accuracy'])\n",
    "    return model"
   ]
  },
  {
   "cell_type": "code",
   "execution_count": 101,
   "metadata": {},
   "outputs": [
    {
     "name": "stdout",
     "output_type": "stream",
     "text": [
      "Train on 1199 samples, validate on 400 samples\n",
      "Epoch 1/100\n",
      " - 3s - loss: 1.3866 - acc: 0.5263 - val_loss: 1.1283 - val_acc: 0.5225\n",
      "Epoch 2/100\n",
      " - 1s - loss: 1.1067 - acc: 0.5580 - val_loss: 1.0444 - val_acc: 0.5225\n",
      "Epoch 3/100\n",
      " - 1s - loss: 1.0535 - acc: 0.5630 - val_loss: 1.0157 - val_acc: 0.5350\n",
      "Epoch 4/100\n",
      " - 1s - loss: 1.0148 - acc: 0.5888 - val_loss: 1.0183 - val_acc: 0.5275\n",
      "Epoch 5/100\n",
      " - 1s - loss: 1.0022 - acc: 0.5830 - val_loss: 0.9833 - val_acc: 0.5600\n",
      "Epoch 6/100\n",
      " - 1s - loss: 0.9903 - acc: 0.5988 - val_loss: 0.9865 - val_acc: 0.5575\n",
      "Epoch 7/100\n",
      " - 1s - loss: 0.9840 - acc: 0.6047 - val_loss: 0.9708 - val_acc: 0.5675\n",
      "Epoch 8/100\n",
      " - 0s - loss: 0.9659 - acc: 0.6105 - val_loss: 1.0007 - val_acc: 0.5250\n",
      "Epoch 9/100\n",
      " - 1s - loss: 0.9715 - acc: 0.6113 - val_loss: 0.9555 - val_acc: 0.5675\n",
      "Epoch 10/100\n",
      " - 1s - loss: 0.9551 - acc: 0.6264 - val_loss: 0.9577 - val_acc: 0.5750\n",
      "Epoch 11/100\n",
      " - 1s - loss: 0.9530 - acc: 0.6088 - val_loss: 0.9541 - val_acc: 0.5650\n",
      "Epoch 12/100\n",
      " - 1s - loss: 0.9459 - acc: 0.6063 - val_loss: 0.9835 - val_acc: 0.5400\n",
      "Epoch 13/100\n",
      " - 1s - loss: 0.9418 - acc: 0.6063 - val_loss: 0.9475 - val_acc: 0.5775\n",
      "Epoch 14/100\n",
      " - 1s - loss: 0.9505 - acc: 0.6072 - val_loss: 0.9847 - val_acc: 0.5500\n",
      "Epoch 15/100\n",
      " - 1s - loss: 0.9433 - acc: 0.6097 - val_loss: 0.9602 - val_acc: 0.5550\n",
      "Epoch 16/100\n",
      " - 0s - loss: 0.9414 - acc: 0.6230 - val_loss: 0.9459 - val_acc: 0.5675\n",
      "Epoch 17/100\n",
      " - 1s - loss: 0.9326 - acc: 0.6163 - val_loss: 0.9424 - val_acc: 0.5800\n",
      "Epoch 18/100\n",
      " - 1s - loss: 0.9252 - acc: 0.6138 - val_loss: 0.9497 - val_acc: 0.5650\n",
      "Epoch 19/100\n",
      " - 1s - loss: 0.9311 - acc: 0.6163 - val_loss: 0.9409 - val_acc: 0.5850\n",
      "Epoch 20/100\n",
      " - 1s - loss: 0.9217 - acc: 0.6172 - val_loss: 0.9447 - val_acc: 0.5675\n",
      "Epoch 21/100\n",
      " - 1s - loss: 0.9200 - acc: 0.6147 - val_loss: 0.9277 - val_acc: 0.5750\n",
      "Epoch 22/100\n",
      " - 1s - loss: 0.9331 - acc: 0.5922 - val_loss: 0.9335 - val_acc: 0.6025\n",
      "Epoch 23/100\n",
      " - 1s - loss: 0.9191 - acc: 0.6122 - val_loss: 0.9299 - val_acc: 0.5750\n",
      "Epoch 24/100\n",
      " - 1s - loss: 0.9141 - acc: 0.6222 - val_loss: 0.9251 - val_acc: 0.5650\n",
      "Epoch 25/100\n",
      " - 0s - loss: 0.9149 - acc: 0.6113 - val_loss: 0.9314 - val_acc: 0.5900\n",
      "Epoch 26/100\n",
      " - 1s - loss: 0.9147 - acc: 0.6113 - val_loss: 0.9324 - val_acc: 0.5850\n",
      "Epoch 27/100\n",
      " - 1s - loss: 0.9227 - acc: 0.6013 - val_loss: 0.9288 - val_acc: 0.5700\n",
      "Epoch 28/100\n",
      " - 1s - loss: 0.9045 - acc: 0.6113 - val_loss: 0.9266 - val_acc: 0.5700\n",
      "Epoch 29/100\n",
      " - 1s - loss: 0.9111 - acc: 0.6222 - val_loss: 0.9220 - val_acc: 0.5875\n",
      "Epoch 30/100\n",
      " - 1s - loss: 0.9097 - acc: 0.6214 - val_loss: 0.9144 - val_acc: 0.5825\n",
      "Epoch 31/100\n",
      " - 1s - loss: 0.8986 - acc: 0.6122 - val_loss: 0.9273 - val_acc: 0.5650\n",
      "Epoch 32/100\n",
      " - 1s - loss: 0.9043 - acc: 0.6222 - val_loss: 0.9175 - val_acc: 0.5925\n",
      "Epoch 33/100\n",
      " - 1s - loss: 0.9014 - acc: 0.6239 - val_loss: 0.9217 - val_acc: 0.5725\n",
      "Epoch 34/100\n",
      " - 1s - loss: 0.8984 - acc: 0.6188 - val_loss: 0.9184 - val_acc: 0.5675\n",
      "Epoch 35/100\n",
      " - 1s - loss: 0.9021 - acc: 0.6264 - val_loss: 0.9220 - val_acc: 0.5800\n",
      "Epoch 36/100\n",
      " - 1s - loss: 0.8945 - acc: 0.6197 - val_loss: 0.9056 - val_acc: 0.5750\n",
      "Epoch 37/100\n",
      " - 1s - loss: 0.8930 - acc: 0.6230 - val_loss: 0.9080 - val_acc: 0.5800\n",
      "Epoch 38/100\n",
      " - 1s - loss: 0.8890 - acc: 0.6222 - val_loss: 0.9064 - val_acc: 0.5800\n",
      "Epoch 39/100\n",
      " - 1s - loss: 0.8841 - acc: 0.6222 - val_loss: 0.9115 - val_acc: 0.5800\n",
      "Epoch 40/100\n",
      " - 1s - loss: 0.8856 - acc: 0.6230 - val_loss: 0.9052 - val_acc: 0.5900\n",
      "Epoch 41/100\n",
      " - 1s - loss: 0.8860 - acc: 0.6197 - val_loss: 0.9039 - val_acc: 0.5875\n",
      "Epoch 42/100\n",
      " - 1s - loss: 0.8844 - acc: 0.6197 - val_loss: 0.9100 - val_acc: 0.5750\n",
      "Epoch 43/100\n",
      " - 1s - loss: 0.8790 - acc: 0.6280 - val_loss: 0.9084 - val_acc: 0.5650\n",
      "Epoch 44/100\n",
      " - 1s - loss: 0.8853 - acc: 0.6264 - val_loss: 0.9044 - val_acc: 0.5850\n",
      "Epoch 45/100\n",
      " - 1s - loss: 0.8780 - acc: 0.6314 - val_loss: 0.9188 - val_acc: 0.5575\n",
      "Epoch 46/100\n",
      " - 1s - loss: 0.8854 - acc: 0.6305 - val_loss: 0.9031 - val_acc: 0.5800\n",
      "Epoch 47/100\n",
      " - 1s - loss: 0.8803 - acc: 0.6272 - val_loss: 0.9038 - val_acc: 0.5825\n",
      "Epoch 48/100\n",
      " - 1s - loss: 0.8726 - acc: 0.6272 - val_loss: 0.9056 - val_acc: 0.5650\n",
      "Epoch 49/100\n",
      " - 1s - loss: 0.8733 - acc: 0.6314 - val_loss: 0.9090 - val_acc: 0.5975\n",
      "Epoch 50/100\n",
      " - 1s - loss: 0.8786 - acc: 0.6322 - val_loss: 0.9105 - val_acc: 0.5950\n",
      "Epoch 51/100\n",
      " - 1s - loss: 0.8735 - acc: 0.6297 - val_loss: 0.9266 - val_acc: 0.5575\n",
      "Epoch 52/100\n",
      " - 1s - loss: 0.8760 - acc: 0.6197 - val_loss: 0.9038 - val_acc: 0.5800\n",
      "Epoch 53/100\n",
      " - 1s - loss: 0.8678 - acc: 0.6347 - val_loss: 0.9480 - val_acc: 0.5625\n",
      "Epoch 54/100\n",
      " - 1s - loss: 0.8854 - acc: 0.6113 - val_loss: 0.9043 - val_acc: 0.5700\n",
      "Epoch 55/100\n",
      " - 1s - loss: 0.8659 - acc: 0.6297 - val_loss: 0.9058 - val_acc: 0.5825\n",
      "Epoch 56/100\n",
      " - 1s - loss: 0.8687 - acc: 0.6239 - val_loss: 0.9132 - val_acc: 0.5675\n",
      "Epoch 57/100\n",
      " - 1s - loss: 0.8751 - acc: 0.6272 - val_loss: 0.9113 - val_acc: 0.5775\n",
      "Epoch 58/100\n",
      " - 1s - loss: 0.8693 - acc: 0.6230 - val_loss: 0.9176 - val_acc: 0.5525\n",
      "Epoch 59/100\n",
      " - 1s - loss: 0.8669 - acc: 0.6247 - val_loss: 0.9262 - val_acc: 0.5575\n",
      "Epoch 60/100\n",
      " - 1s - loss: 0.8708 - acc: 0.6264 - val_loss: 0.9144 - val_acc: 0.5650\n",
      "Epoch 61/100\n",
      " - 1s - loss: 0.8654 - acc: 0.6364 - val_loss: 0.9028 - val_acc: 0.5825\n",
      "Epoch 62/100\n",
      " - 1s - loss: 0.8633 - acc: 0.6405 - val_loss: 0.9109 - val_acc: 0.5900\n",
      "Epoch 63/100\n",
      " - 1s - loss: 0.8652 - acc: 0.6305 - val_loss: 0.9067 - val_acc: 0.5650\n",
      "Epoch 64/100\n",
      " - 1s - loss: 0.8629 - acc: 0.6414 - val_loss: 0.9086 - val_acc: 0.5900\n",
      "Epoch 65/100\n",
      " - 1s - loss: 0.8584 - acc: 0.6355 - val_loss: 0.9110 - val_acc: 0.5700\n",
      "Epoch 66/100\n",
      " - 1s - loss: 0.8575 - acc: 0.6347 - val_loss: 0.9170 - val_acc: 0.5600\n",
      "Epoch 67/100\n",
      " - 0s - loss: 0.8599 - acc: 0.6347 - val_loss: 0.9083 - val_acc: 0.5825\n",
      "Epoch 68/100\n",
      " - 1s - loss: 0.8600 - acc: 0.6280 - val_loss: 0.9093 - val_acc: 0.5725\n",
      "Epoch 69/100\n",
      " - 0s - loss: 0.8619 - acc: 0.6355 - val_loss: 0.9258 - val_acc: 0.5775\n",
      "Epoch 70/100\n",
      " - 1s - loss: 0.8676 - acc: 0.6255 - val_loss: 0.9208 - val_acc: 0.5650\n",
      "Epoch 71/100\n",
      " - 1s - loss: 0.8551 - acc: 0.6322 - val_loss: 0.9135 - val_acc: 0.5600\n",
      "Epoch 72/100\n",
      " - 1s - loss: 0.8552 - acc: 0.6297 - val_loss: 0.9149 - val_acc: 0.5875\n",
      "Epoch 73/100\n",
      " - 1s - loss: 0.8595 - acc: 0.6339 - val_loss: 0.9225 - val_acc: 0.5425\n",
      "Epoch 74/100\n",
      " - 1s - loss: 0.8556 - acc: 0.6314 - val_loss: 0.9220 - val_acc: 0.5750\n",
      "Epoch 75/100\n",
      " - 1s - loss: 0.8537 - acc: 0.6272 - val_loss: 0.9070 - val_acc: 0.5975\n",
      "Epoch 76/100\n",
      " - 1s - loss: 0.8582 - acc: 0.6355 - val_loss: 0.9214 - val_acc: 0.5700\n",
      "Epoch 77/100\n",
      " - 1s - loss: 0.8555 - acc: 0.6330 - val_loss: 0.9270 - val_acc: 0.5450\n",
      "Epoch 78/100\n",
      " - 1s - loss: 0.8574 - acc: 0.6389 - val_loss: 0.9193 - val_acc: 0.5650\n",
      "Epoch 79/100\n",
      " - 1s - loss: 0.8522 - acc: 0.6314 - val_loss: 0.9170 - val_acc: 0.5575\n",
      "Epoch 80/100\n",
      " - 1s - loss: 0.8523 - acc: 0.6405 - val_loss: 0.9105 - val_acc: 0.5850\n",
      "Epoch 81/100\n",
      " - 1s - loss: 0.8448 - acc: 0.6447 - val_loss: 0.9137 - val_acc: 0.5875\n",
      "Epoch 82/100\n",
      " - 1s - loss: 0.8489 - acc: 0.6372 - val_loss: 0.9231 - val_acc: 0.5675\n",
      "Epoch 83/100\n",
      " - 1s - loss: 0.8447 - acc: 0.6330 - val_loss: 0.9275 - val_acc: 0.5900\n",
      "Epoch 84/100\n",
      " - 1s - loss: 0.8669 - acc: 0.6314 - val_loss: 0.9271 - val_acc: 0.5475\n",
      "Epoch 85/100\n",
      " - 1s - loss: 0.8478 - acc: 0.6422 - val_loss: 0.9235 - val_acc: 0.5925\n",
      "Epoch 86/100\n",
      " - 1s - loss: 0.8525 - acc: 0.6455 - val_loss: 0.9147 - val_acc: 0.5775\n",
      "Epoch 87/100\n",
      " - 1s - loss: 0.8468 - acc: 0.6422 - val_loss: 0.9178 - val_acc: 0.5875\n",
      "Epoch 88/100\n",
      " - 1s - loss: 0.8443 - acc: 0.6397 - val_loss: 0.9123 - val_acc: 0.5875\n",
      "Epoch 89/100\n",
      " - 1s - loss: 0.8436 - acc: 0.6405 - val_loss: 0.9197 - val_acc: 0.5875\n",
      "Epoch 90/100\n",
      " - 1s - loss: 0.8450 - acc: 0.6389 - val_loss: 0.9224 - val_acc: 0.5650\n",
      "Epoch 91/100\n",
      " - 0s - loss: 0.8487 - acc: 0.6355 - val_loss: 0.9243 - val_acc: 0.5775\n",
      "Epoch 92/100\n",
      " - 0s - loss: 0.8425 - acc: 0.6489 - val_loss: 0.9194 - val_acc: 0.5900\n",
      "Epoch 93/100\n",
      " - 1s - loss: 0.8364 - acc: 0.6422 - val_loss: 0.9287 - val_acc: 0.5700\n",
      "Epoch 94/100\n",
      " - 1s - loss: 0.8356 - acc: 0.6464 - val_loss: 0.9197 - val_acc: 0.5900\n",
      "Epoch 95/100\n",
      " - 1s - loss: 0.8382 - acc: 0.6455 - val_loss: 0.9270 - val_acc: 0.5925\n",
      "Epoch 96/100\n",
      " - 1s - loss: 0.8402 - acc: 0.6439 - val_loss: 0.9440 - val_acc: 0.5625\n",
      "Epoch 97/100\n",
      " - 0s - loss: 0.8462 - acc: 0.6422 - val_loss: 0.9367 - val_acc: 0.5525\n",
      "Epoch 98/100\n",
      " - 1s - loss: 0.8402 - acc: 0.6347 - val_loss: 0.9465 - val_acc: 0.5525\n",
      "Epoch 99/100\n",
      " - 1s - loss: 0.8381 - acc: 0.6430 - val_loss: 0.9229 - val_acc: 0.5975\n",
      "Epoch 100/100\n",
      " - 1s - loss: 0.8449 - acc: 0.6380 - val_loss: 0.9217 - val_acc: 0.5800\n"
     ]
    },
    {
     "data": {
      "text/plain": [
       "[0.9216600036621094, 0.58]"
      ]
     },
     "execution_count": 101,
     "metadata": {},
     "output_type": "execute_result"
    }
   ],
   "source": [
    "model=classification_model()\n",
    "model.fit(X_train,y_train,validation_data=(X_test, y_test),epochs=100, verbose=2)\n",
    "model.evaluate(X_test,y_test,verbose=0)"
   ]
  },
  {
   "cell_type": "markdown",
   "metadata": {},
   "source": [
    "Accuracy is only 58%. The regression model does not look very good. Let's try a regression model and see if a refression model can do a better job predicting a wine's quality. "
   ]
  },
  {
   "cell_type": "markdown",
   "metadata": {},
   "source": [
    "### Neural network regression with Keras"
   ]
  },
  {
   "cell_type": "code",
   "execution_count": 102,
   "metadata": {},
   "outputs": [],
   "source": [
    "# define regression model\n",
    "num_cols=X.shape[1]\n",
    "def regression_model():\n",
    "    # create model\n",
    "    model = Sequential()\n",
    "    model.add(Dense(100, activation='relu', input_shape=(num_cols,)))\n",
    "    model.add(Dense(300, activation='relu'))\n",
    "    model.add(Dense(300, activation ='relu'))\n",
    "    model.add(Dense(100,activation='tanh'))\n",
    "    model.add(Dense(1))\n",
    "# \"50\" is the number of nodes in each of the three hidden layers.    \n",
    "    # compile model\n",
    "    model.compile(optimizer='adam', loss='mean_squared_error')\n",
    "    return model"
   ]
  },
  {
   "cell_type": "code",
   "execution_count": 103,
   "metadata": {},
   "outputs": [],
   "source": [
    "# build the model\n",
    "model = regression_model()"
   ]
  },
  {
   "cell_type": "code",
   "execution_count": 110,
   "metadata": {},
   "outputs": [
    {
     "name": "stdout",
     "output_type": "stream",
     "text": [
      "Train on 1119 samples, validate on 480 samples\n",
      "Epoch 1/50\n",
      " - 1s - loss: 0.1286 - val_loss: 0.7662\n",
      "Epoch 2/50\n",
      " - 1s - loss: 0.1063 - val_loss: 0.6506\n",
      "Epoch 3/50\n",
      " - 1s - loss: 0.1409 - val_loss: 0.6141\n",
      "Epoch 4/50\n",
      " - 1s - loss: 0.1161 - val_loss: 0.6713\n",
      "Epoch 5/50\n",
      " - 1s - loss: 0.0825 - val_loss: 0.7388\n",
      "Epoch 6/50\n",
      " - 1s - loss: 0.0716 - val_loss: 0.7257\n",
      "Epoch 7/50\n",
      " - 1s - loss: 0.0711 - val_loss: 0.7134\n",
      "Epoch 8/50\n",
      " - 1s - loss: 0.0601 - val_loss: 0.7059\n",
      "Epoch 9/50\n",
      " - 1s - loss: 0.0544 - val_loss: 0.6968\n",
      "Epoch 10/50\n",
      " - 2s - loss: 0.0461 - val_loss: 0.6709\n",
      "Epoch 11/50\n",
      " - 1s - loss: 0.0492 - val_loss: 0.7085\n",
      "Epoch 12/50\n",
      " - 1s - loss: 0.0658 - val_loss: 0.6786\n",
      "Epoch 13/50\n",
      " - 1s - loss: 0.0483 - val_loss: 0.6986\n",
      "Epoch 14/50\n",
      " - 1s - loss: 0.0473 - val_loss: 0.7242\n",
      "Epoch 15/50\n",
      " - 1s - loss: 0.0428 - val_loss: 0.6813\n",
      "Epoch 16/50\n",
      " - 1s - loss: 0.0354 - val_loss: 0.7280\n",
      "Epoch 17/50\n",
      " - 2s - loss: 0.0370 - val_loss: 0.7138\n",
      "Epoch 18/50\n",
      " - 1s - loss: 0.0326 - val_loss: 0.6917\n",
      "Epoch 19/50\n",
      " - 2s - loss: 0.0310 - val_loss: 0.7181\n",
      "Epoch 20/50\n",
      " - 1s - loss: 0.0250 - val_loss: 0.7076\n",
      "Epoch 21/50\n",
      " - 1s - loss: 0.0243 - val_loss: 0.7092\n",
      "Epoch 22/50\n",
      " - 2s - loss: 0.0253 - val_loss: 0.7221\n",
      "Epoch 23/50\n",
      " - 1s - loss: 0.0229 - val_loss: 0.7138\n",
      "Epoch 24/50\n",
      " - 1s - loss: 0.0216 - val_loss: 0.7146\n",
      "Epoch 25/50\n",
      " - 1s - loss: 0.0222 - val_loss: 0.6851\n",
      "Epoch 26/50\n",
      " - 1s - loss: 0.0200 - val_loss: 0.7193\n",
      "Epoch 27/50\n",
      " - 1s - loss: 0.0201 - val_loss: 0.7046\n",
      "Epoch 28/50\n",
      " - 2s - loss: 0.0246 - val_loss: 0.6945\n",
      "Epoch 29/50\n",
      " - 1s - loss: 0.0311 - val_loss: 0.7161\n",
      "Epoch 30/50\n",
      " - 1s - loss: 0.0307 - val_loss: 0.7311\n",
      "Epoch 31/50\n",
      " - 1s - loss: 0.0294 - val_loss: 0.7819\n",
      "Epoch 32/50\n",
      " - 1s - loss: 0.0268 - val_loss: 0.7068\n",
      "Epoch 33/50\n",
      " - 1s - loss: 0.0185 - val_loss: 0.7212\n",
      "Epoch 34/50\n",
      " - 2s - loss: 0.0193 - val_loss: 0.7335\n",
      "Epoch 35/50\n",
      " - 1s - loss: 0.0317 - val_loss: 0.7185\n",
      "Epoch 36/50\n",
      " - 1s - loss: 0.0210 - val_loss: 0.7522\n",
      "Epoch 37/50\n",
      " - 1s - loss: 0.0177 - val_loss: 0.7207\n",
      "Epoch 38/50\n",
      " - 1s - loss: 0.0166 - val_loss: 0.7251\n",
      "Epoch 39/50\n",
      " - 2s - loss: 0.0175 - val_loss: 0.7342\n",
      "Epoch 40/50\n",
      " - 1s - loss: 0.0232 - val_loss: 0.7194\n",
      "Epoch 41/50\n",
      " - 1s - loss: 0.0291 - val_loss: 0.6927\n",
      "Epoch 42/50\n",
      " - 1s - loss: 0.0242 - val_loss: 0.6732\n",
      "Epoch 43/50\n",
      " - 1s - loss: 0.0221 - val_loss: 0.7342\n",
      "Epoch 44/50\n",
      " - 2s - loss: 0.0164 - val_loss: 0.7520\n",
      "Epoch 45/50\n",
      " - 1s - loss: 0.0153 - val_loss: 0.7589\n",
      "Epoch 46/50\n",
      " - 2s - loss: 0.0176 - val_loss: 0.7366\n",
      "Epoch 47/50\n",
      " - 1s - loss: 0.0166 - val_loss: 0.7258\n",
      "Epoch 48/50\n",
      " - 1s - loss: 0.0185 - val_loss: 0.7298\n",
      "Epoch 49/50\n",
      " - 2s - loss: 0.0170 - val_loss: 0.7608\n",
      "Epoch 50/50\n",
      " - 1s - loss: 0.0159 - val_loss: 0.7843\n"
     ]
    },
    {
     "data": {
      "text/plain": [
       "<keras.callbacks.History at 0x7f4b11e9d828>"
      ]
     },
     "execution_count": 110,
     "metadata": {},
     "output_type": "execute_result"
    }
   ],
   "source": [
    "# fit the model\n",
    "model.fit(X, y, validation_split=0.3, epochs=50, verbose=2)"
   ]
  },
  {
   "cell_type": "code",
   "execution_count": 116,
   "metadata": {},
   "outputs": [
    {
     "name": "stdout",
     "output_type": "stream",
     "text": [
      "The root mean square error is:  0.885607136375944\n"
     ]
    }
   ],
   "source": [
    "import math\n",
    "print (\"The root mean square error is: \", math.sqrt(0.7843))"
   ]
  },
  {
   "cell_type": "markdown",
   "metadata": {},
   "source": [
    "The root mean squared error is 0.885. That means on average, the predicted wine quality score is about 0.89 away from (either above or below) the actual wine quality score. For example, for a quality score of 8, the predicted score could range from 7.12 to 8.88, or 7 to 9 with rounding. For a quality score of 3, the predicted score would range from 2.12 to 3.88, or 2 to 4 with rounding. "
   ]
  },
  {
   "cell_type": "markdown",
   "metadata": {},
   "source": [
    "Visualize how the actual wine quality scores compare to the predicted wine quality score."
   ]
  },
  {
   "cell_type": "code",
   "execution_count": 111,
   "metadata": {},
   "outputs": [
    {
     "data": {
      "image/png": "[encoded data removed]",
      "text/plain": [
       "<Figure size 432x288 with 1 Axes>"
      ]
     },
     "metadata": {
      "needs_background": "light"
     },
     "output_type": "display_data"
    }
   ],
   "source": [
    "y_pred=model.predict(X)\n",
    "\n",
    "plt.scatter(y, y_pred,color='blue')\n",
    "plt.title('Actual wine quality values vs. Predicted wine quality values')\n",
    "plt.xlabel('Actual wine quality values')\n",
    "plt.ylabel('Predicted wine quality values')\n",
    "plt.show()\n"
   ]
  },
  {
   "cell_type": "code",
   "execution_count": 112,
   "metadata": {},
   "outputs": [
    {
     "name": "stdout",
     "output_type": "stream",
     "text": [
      "The R-squared is:  0.6224277314909985\n"
     ]
    }
   ],
   "source": [
    "from sklearn.metrics import r2_score\n",
    "print(\"The R-squared is: \", r2_score(y,y_pred))"
   ]
  },
  {
   "cell_type": "markdown",
   "metadata": {},
   "source": [
    "R-squared from the regression model is only 0.6224. 62.24% of the variation in the wine quality score could be explained by the variation in the attributes. That is fair but not good enough. Let's try one more neural network model with decision tree classification."
   ]
  },
  {
   "cell_type": "markdown",
   "metadata": {},
   "source": [
    "### Multi-label decision tree classification"
   ]
  },
  {
   "cell_type": "code",
   "execution_count": 113,
   "metadata": {},
   "outputs": [
    {
     "data": {
      "text/plain": [
       "DecisionTreeClassifier(class_weight=None, criterion='entropy', max_depth=25,\n",
       "            max_features=None, max_leaf_nodes=None,\n",
       "            min_impurity_decrease=0.0, min_impurity_split=None,\n",
       "            min_samples_leaf=1, min_samples_split=2,\n",
       "            min_weight_fraction_leaf=0.0, presort=False, random_state=None,\n",
       "            splitter='best')"
      ]
     },
     "execution_count": 113,
     "metadata": {},
     "output_type": "execute_result"
    }
   ],
   "source": [
    "from sklearn.tree import DecisionTreeClassifier\n",
    "WineQuality=DecisionTreeClassifier(criterion=\"entropy\",max_depth=25)\n",
    "WineQuality"
   ]
  },
  {
   "cell_type": "code",
   "execution_count": 114,
   "metadata": {},
   "outputs": [
    {
     "data": {
      "text/plain": [
       "DecisionTreeClassifier(class_weight=None, criterion='entropy', max_depth=25,\n",
       "            max_features=None, max_leaf_nodes=None,\n",
       "            min_impurity_decrease=0.0, min_impurity_split=None,\n",
       "            min_samples_leaf=1, min_samples_split=2,\n",
       "            min_weight_fraction_leaf=0.0, presort=False, random_state=None,\n",
       "            splitter='best')"
      ]
     },
     "execution_count": 114,
     "metadata": {},
     "output_type": "execute_result"
    }
   ],
   "source": [
    "WineQuality.fit(X_train,y_train)"
   ]
  },
  {
   "cell_type": "code",
   "execution_count": 115,
   "metadata": {},
   "outputs": [
    {
     "name": "stdout",
     "output_type": "stream",
     "text": [
      "Decision tree's accuracy is:  0.6075\n"
     ]
    }
   ],
   "source": [
    "pred_quality=WineQuality.predict(X_test)\n",
    "from sklearn import metrics\n",
    "print(\"Decision tree's accuracy is: \",metrics.accuracy_score(y_test,pred_quality))"
   ]
  },
  {
   "cell_type": "markdown",
   "metadata": {},
   "source": [
    "The decision tree model has an accuracy of 60.75%, slightly better than that of the neural network model. "
   ]
  },
  {
   "cell_type": "code",
   "execution_count": null,
   "metadata": {},
   "outputs": [],
   "source": []
  },
  {
   "cell_type": "code",
   "execution_count": null,
   "metadata": {},
   "outputs": [],
   "source": []
  }
 ],
 "metadata": {
  "kernelspec": {
   "display_name": "Python",
   "language": "python",
   "name": "conda-env-python-py"
  },
  "language_info": {
   "codemirror_mode": {
    "name": "ipython",
    "version": 3
   },
   "file_extension": ".py",
   "mimetype": "text/x-python",
   "name": "python",
   "nbconvert_exporter": "python",
   "pygments_lexer": "ipython3",
   "version": "3.6.11"
  }
 },
 "nbformat": 4,
 "nbformat_minor": 4
}
